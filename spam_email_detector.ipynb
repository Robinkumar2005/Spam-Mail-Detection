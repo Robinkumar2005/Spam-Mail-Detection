{
  "nbformat": 4,
  "nbformat_minor": 0,
  "metadata": {
    "colab": {
      "provenance": []
    },
    "kernelspec": {
      "name": "python3",
      "display_name": "Python 3"
    },
    "language_info": {
      "name": "python"
    }
  },
  "cells": [
    {
      "cell_type": "code",
      "execution_count": null,
      "metadata": {
        "id": "iTVzXS5JyfEu"
      },
      "outputs": [],
      "source": [
        "import numpy as np\n",
        "import pandas as pd\n",
        "import matplotlib.pyplot as plt\n",
        "import seaborn as sns\n",
        "import warnings\n",
        "warnings.filterwarnings('ignore')"
      ]
    },
    {
      "cell_type": "code",
      "source": [
        "df = pd.read_csv(\"/content/combined_data.csv\")"
      ],
      "metadata": {
        "id": "JvczEHKfyqIB"
      },
      "execution_count": null,
      "outputs": []
    },
    {
      "cell_type": "code",
      "source": [
        "df.head()"
      ],
      "metadata": {
        "colab": {
          "base_uri": "https://localhost:8080/",
          "height": 206
        },
        "id": "evj9Pigfy81K",
        "outputId": "a85b98c7-6c76-480a-8124-16547945611c"
      },
      "execution_count": null,
      "outputs": [
        {
          "output_type": "execute_result",
          "data": {
            "text/plain": [
              "   label                                               text\n",
              "0      1  ounce feather bowl hummingbird opec moment ala...\n",
              "1      1  wulvob get your medircations online qnb ikud v...\n",
              "2      0   computer connection from cnn com wednesday es...\n",
              "3      1  university degree obtain a prosperous future m...\n",
              "4      0  thanks for all your answers guys i know i shou..."
            ],
            "text/html": [
              "\n",
              "  <div id=\"df-aafa53b9-b1df-4bd3-a99b-39532483193e\" class=\"colab-df-container\">\n",
              "    <div>\n",
              "<style scoped>\n",
              "    .dataframe tbody tr th:only-of-type {\n",
              "        vertical-align: middle;\n",
              "    }\n",
              "\n",
              "    .dataframe tbody tr th {\n",
              "        vertical-align: top;\n",
              "    }\n",
              "\n",
              "    .dataframe thead th {\n",
              "        text-align: right;\n",
              "    }\n",
              "</style>\n",
              "<table border=\"1\" class=\"dataframe\">\n",
              "  <thead>\n",
              "    <tr style=\"text-align: right;\">\n",
              "      <th></th>\n",
              "      <th>label</th>\n",
              "      <th>text</th>\n",
              "    </tr>\n",
              "  </thead>\n",
              "  <tbody>\n",
              "    <tr>\n",
              "      <th>0</th>\n",
              "      <td>1</td>\n",
              "      <td>ounce feather bowl hummingbird opec moment ala...</td>\n",
              "    </tr>\n",
              "    <tr>\n",
              "      <th>1</th>\n",
              "      <td>1</td>\n",
              "      <td>wulvob get your medircations online qnb ikud v...</td>\n",
              "    </tr>\n",
              "    <tr>\n",
              "      <th>2</th>\n",
              "      <td>0</td>\n",
              "      <td>computer connection from cnn com wednesday es...</td>\n",
              "    </tr>\n",
              "    <tr>\n",
              "      <th>3</th>\n",
              "      <td>1</td>\n",
              "      <td>university degree obtain a prosperous future m...</td>\n",
              "    </tr>\n",
              "    <tr>\n",
              "      <th>4</th>\n",
              "      <td>0</td>\n",
              "      <td>thanks for all your answers guys i know i shou...</td>\n",
              "    </tr>\n",
              "  </tbody>\n",
              "</table>\n",
              "</div>\n",
              "    <div class=\"colab-df-buttons\">\n",
              "\n",
              "  <div class=\"colab-df-container\">\n",
              "    <button class=\"colab-df-convert\" onclick=\"convertToInteractive('df-aafa53b9-b1df-4bd3-a99b-39532483193e')\"\n",
              "            title=\"Convert this dataframe to an interactive table.\"\n",
              "            style=\"display:none;\">\n",
              "\n",
              "  <svg xmlns=\"http://www.w3.org/2000/svg\" height=\"24px\" viewBox=\"0 -960 960 960\">\n",
              "    <path d=\"M120-120v-720h720v720H120Zm60-500h600v-160H180v160Zm220 220h160v-160H400v160Zm0 220h160v-160H400v160ZM180-400h160v-160H180v160Zm440 0h160v-160H620v160ZM180-180h160v-160H180v160Zm440 0h160v-160H620v160Z\"/>\n",
              "  </svg>\n",
              "    </button>\n",
              "\n",
              "  <style>\n",
              "    .colab-df-container {\n",
              "      display:flex;\n",
              "      gap: 12px;\n",
              "    }\n",
              "\n",
              "    .colab-df-convert {\n",
              "      background-color: #E8F0FE;\n",
              "      border: none;\n",
              "      border-radius: 50%;\n",
              "      cursor: pointer;\n",
              "      display: none;\n",
              "      fill: #1967D2;\n",
              "      height: 32px;\n",
              "      padding: 0 0 0 0;\n",
              "      width: 32px;\n",
              "    }\n",
              "\n",
              "    .colab-df-convert:hover {\n",
              "      background-color: #E2EBFA;\n",
              "      box-shadow: 0px 1px 2px rgba(60, 64, 67, 0.3), 0px 1px 3px 1px rgba(60, 64, 67, 0.15);\n",
              "      fill: #174EA6;\n",
              "    }\n",
              "\n",
              "    .colab-df-buttons div {\n",
              "      margin-bottom: 4px;\n",
              "    }\n",
              "\n",
              "    [theme=dark] .colab-df-convert {\n",
              "      background-color: #3B4455;\n",
              "      fill: #D2E3FC;\n",
              "    }\n",
              "\n",
              "    [theme=dark] .colab-df-convert:hover {\n",
              "      background-color: #434B5C;\n",
              "      box-shadow: 0px 1px 3px 1px rgba(0, 0, 0, 0.15);\n",
              "      filter: drop-shadow(0px 1px 2px rgba(0, 0, 0, 0.3));\n",
              "      fill: #FFFFFF;\n",
              "    }\n",
              "  </style>\n",
              "\n",
              "    <script>\n",
              "      const buttonEl =\n",
              "        document.querySelector('#df-aafa53b9-b1df-4bd3-a99b-39532483193e button.colab-df-convert');\n",
              "      buttonEl.style.display =\n",
              "        google.colab.kernel.accessAllowed ? 'block' : 'none';\n",
              "\n",
              "      async function convertToInteractive(key) {\n",
              "        const element = document.querySelector('#df-aafa53b9-b1df-4bd3-a99b-39532483193e');\n",
              "        const dataTable =\n",
              "          await google.colab.kernel.invokeFunction('convertToInteractive',\n",
              "                                                    [key], {});\n",
              "        if (!dataTable) return;\n",
              "\n",
              "        const docLinkHtml = 'Like what you see? Visit the ' +\n",
              "          '<a target=\"_blank\" href=https://colab.research.google.com/notebooks/data_table.ipynb>data table notebook</a>'\n",
              "          + ' to learn more about interactive tables.';\n",
              "        element.innerHTML = '';\n",
              "        dataTable['output_type'] = 'display_data';\n",
              "        await google.colab.output.renderOutput(dataTable, element);\n",
              "        const docLink = document.createElement('div');\n",
              "        docLink.innerHTML = docLinkHtml;\n",
              "        element.appendChild(docLink);\n",
              "      }\n",
              "    </script>\n",
              "  </div>\n",
              "\n",
              "\n",
              "    <div id=\"df-e2cdad53-5f3c-4431-86e6-40ddb6a8ad2d\">\n",
              "      <button class=\"colab-df-quickchart\" onclick=\"quickchart('df-e2cdad53-5f3c-4431-86e6-40ddb6a8ad2d')\"\n",
              "                title=\"Suggest charts\"\n",
              "                style=\"display:none;\">\n",
              "\n",
              "<svg xmlns=\"http://www.w3.org/2000/svg\" height=\"24px\"viewBox=\"0 0 24 24\"\n",
              "     width=\"24px\">\n",
              "    <g>\n",
              "        <path d=\"M19 3H5c-1.1 0-2 .9-2 2v14c0 1.1.9 2 2 2h14c1.1 0 2-.9 2-2V5c0-1.1-.9-2-2-2zM9 17H7v-7h2v7zm4 0h-2V7h2v10zm4 0h-2v-4h2v4z\"/>\n",
              "    </g>\n",
              "</svg>\n",
              "      </button>\n",
              "\n",
              "<style>\n",
              "  .colab-df-quickchart {\n",
              "      --bg-color: #E8F0FE;\n",
              "      --fill-color: #1967D2;\n",
              "      --hover-bg-color: #E2EBFA;\n",
              "      --hover-fill-color: #174EA6;\n",
              "      --disabled-fill-color: #AAA;\n",
              "      --disabled-bg-color: #DDD;\n",
              "  }\n",
              "\n",
              "  [theme=dark] .colab-df-quickchart {\n",
              "      --bg-color: #3B4455;\n",
              "      --fill-color: #D2E3FC;\n",
              "      --hover-bg-color: #434B5C;\n",
              "      --hover-fill-color: #FFFFFF;\n",
              "      --disabled-bg-color: #3B4455;\n",
              "      --disabled-fill-color: #666;\n",
              "  }\n",
              "\n",
              "  .colab-df-quickchart {\n",
              "    background-color: var(--bg-color);\n",
              "    border: none;\n",
              "    border-radius: 50%;\n",
              "    cursor: pointer;\n",
              "    display: none;\n",
              "    fill: var(--fill-color);\n",
              "    height: 32px;\n",
              "    padding: 0;\n",
              "    width: 32px;\n",
              "  }\n",
              "\n",
              "  .colab-df-quickchart:hover {\n",
              "    background-color: var(--hover-bg-color);\n",
              "    box-shadow: 0 1px 2px rgba(60, 64, 67, 0.3), 0 1px 3px 1px rgba(60, 64, 67, 0.15);\n",
              "    fill: var(--button-hover-fill-color);\n",
              "  }\n",
              "\n",
              "  .colab-df-quickchart-complete:disabled,\n",
              "  .colab-df-quickchart-complete:disabled:hover {\n",
              "    background-color: var(--disabled-bg-color);\n",
              "    fill: var(--disabled-fill-color);\n",
              "    box-shadow: none;\n",
              "  }\n",
              "\n",
              "  .colab-df-spinner {\n",
              "    border: 2px solid var(--fill-color);\n",
              "    border-color: transparent;\n",
              "    border-bottom-color: var(--fill-color);\n",
              "    animation:\n",
              "      spin 1s steps(1) infinite;\n",
              "  }\n",
              "\n",
              "  @keyframes spin {\n",
              "    0% {\n",
              "      border-color: transparent;\n",
              "      border-bottom-color: var(--fill-color);\n",
              "      border-left-color: var(--fill-color);\n",
              "    }\n",
              "    20% {\n",
              "      border-color: transparent;\n",
              "      border-left-color: var(--fill-color);\n",
              "      border-top-color: var(--fill-color);\n",
              "    }\n",
              "    30% {\n",
              "      border-color: transparent;\n",
              "      border-left-color: var(--fill-color);\n",
              "      border-top-color: var(--fill-color);\n",
              "      border-right-color: var(--fill-color);\n",
              "    }\n",
              "    40% {\n",
              "      border-color: transparent;\n",
              "      border-right-color: var(--fill-color);\n",
              "      border-top-color: var(--fill-color);\n",
              "    }\n",
              "    60% {\n",
              "      border-color: transparent;\n",
              "      border-right-color: var(--fill-color);\n",
              "    }\n",
              "    80% {\n",
              "      border-color: transparent;\n",
              "      border-right-color: var(--fill-color);\n",
              "      border-bottom-color: var(--fill-color);\n",
              "    }\n",
              "    90% {\n",
              "      border-color: transparent;\n",
              "      border-bottom-color: var(--fill-color);\n",
              "    }\n",
              "  }\n",
              "</style>\n",
              "\n",
              "      <script>\n",
              "        async function quickchart(key) {\n",
              "          const quickchartButtonEl =\n",
              "            document.querySelector('#' + key + ' button');\n",
              "          quickchartButtonEl.disabled = true;  // To prevent multiple clicks.\n",
              "          quickchartButtonEl.classList.add('colab-df-spinner');\n",
              "          try {\n",
              "            const charts = await google.colab.kernel.invokeFunction(\n",
              "                'suggestCharts', [key], {});\n",
              "          } catch (error) {\n",
              "            console.error('Error during call to suggestCharts:', error);\n",
              "          }\n",
              "          quickchartButtonEl.classList.remove('colab-df-spinner');\n",
              "          quickchartButtonEl.classList.add('colab-df-quickchart-complete');\n",
              "        }\n",
              "        (() => {\n",
              "          let quickchartButtonEl =\n",
              "            document.querySelector('#df-e2cdad53-5f3c-4431-86e6-40ddb6a8ad2d button');\n",
              "          quickchartButtonEl.style.display =\n",
              "            google.colab.kernel.accessAllowed ? 'block' : 'none';\n",
              "        })();\n",
              "      </script>\n",
              "    </div>\n",
              "\n",
              "    </div>\n",
              "  </div>\n"
            ],
            "application/vnd.google.colaboratory.intrinsic+json": {
              "type": "dataframe",
              "variable_name": "df",
              "summary": "{\n  \"name\": \"df\",\n  \"rows\": 7485,\n  \"fields\": [\n    {\n      \"column\": \"label\",\n      \"properties\": {\n        \"dtype\": \"number\",\n        \"std\": 0,\n        \"min\": 0,\n        \"max\": 1,\n        \"num_unique_values\": 2,\n        \"samples\": [\n          0,\n          1\n        ],\n        \"semantic_type\": \"\",\n        \"description\": \"\"\n      }\n    },\n    {\n      \"column\": \"text\",\n      \"properties\": {\n        \"dtype\": \"string\",\n        \"num_unique_values\": 7485,\n        \"samples\": [\n          \"attached is a revised draft of a letter as we would like to see it from oneok , which includes changes from the draft michelle and i crafted on friday . while we don ' t intend to provide this draft to oneok , it will enable us to assist them if they ask for drafting suggestions ( they will more than likely be on a short time fuse ) . please let me know if either of you has any comments . . . . . . . . . . . . . . . . . . . tony\",\n          \"while we may have high expectations of our associates we also give them high rewards imagine being part of a stable organization with a sterling reputation a place where the sydney car centre is an integral part of all that we do with our car centre personality you'll not just succeed you'll thrive and with our strong commitment to promoting from within you'll definitely enjoy your rise to the top today the sydney car centre is looking for an industrious regional assistant to fasten the process of the delivery of customer payments to the suppliers the position offered is a part time job and will only require from you to be available for escapenumber escapenumber hours a day as a regional assistant you will be supposed to operate with the payments from those customers based in your country you will be expected to accept escapenumber escapenumber transactions to your bank account every week make certain calculations about every transaction you will be precisely instructed about it transfer the funds to the suppliers by means of western union money gram less your fee the charges of the western union money gram you will be continuously communicating with the manager from the head office who will instruct you give advice regarding every new payment the ideal candidate will be industrious goal oriented person with the availability of a personal business bank account suitable to be used for the company needs knowledge of english computer literacy and sociability are appreciated the company guarantees to pay net escapenumber fee out of the amount of every payment you dealt with and to provide you with the regular income flexible schedule all the related expenses you might have like the western union money gram chargers related expenses on traveling are covered by the company the more detailed information is available on our web site http vacancy escapenumber sccentre hk vacancies php where you can fill in the on line application form for this position we would be glad to welcome you in our team we are looking forward to hearing from you as soon as possible yours sincerely michel marrero function escapelong escapelong escapelong escapelong escapelong escapelong escapelong escapelong escapelong escapelong escapelong escapelong dec common mkp cci paescapenumber start close nqe sescapenumberq escapelong escapelong escapelong escapelong escapelong escapelong escapelong upk escapelong escapelong escapelong escapelong escapelong escapelong escapelong escapelong escapelong escapelong escapelong escapelong escapelong escapelong escapelong escapelong escapelong escapelong escapelong escapelong escapelong escapelong escapelong escapelong escapelong escapelong escapelong api escapelong escapelong escapelong escapelong escapelong escapelong escapelong escapelong escapelong escapelong escapelong escapelong escapelong escapelong escapelong escapelong escapelong escapelong escapelong escapelong escapelong escapelong escapelong escapelong escapelong escapelong escapelong escapelong escapelong escapelong escapelong escapelong escapelong escapelong escapelong escapelong escapelong escapelong escapelong escapelong escapelong escapelong escapelong escapelong escapelong escapelong escapelong escapelong escapelong escapelong escapelong escapelong escapelong escapelong escapelong escapelong escapelong dlq escapelong escapelong escapelong escapelong escapelong escapelong escapelong escapelong escapelong ork wfescapenumber end escapenumbercxu dec ahqescapenumber escapelong escapelong escapelong escapelong escapelong escapelong escapelong escapelong escapelong escapelong escapelong escapelong escapelong escapelong escapelong escapelong rev avmescapenumber fxw dyescapenumber kescapenumberei escapelong escapelong escapelong escapelong escapelong escapelong escapelong escapelong escapelong escapelong escapelong escapelong escapelong escapelong escapelong escapelong escapelong escapelong escapelong escapelong escapelong escapelong escapelong escapelong escapelong escapelong escapelong escapelong escapelong escapelong end escapelong escapelong escapelong escapelong escapelong escapelong escapelong escapelong escapelong escapelong escapelong escapelong escapelong escapelong escapelong escapelong escapelong zxd escapelong escapelong escapelong escapelong escapenumbermsf aowo api function serv interface file escapelong escapelong escapelong escapelong escapelong escapelong escapelong escapelong escapelong escapelong escapelong escapelong escapelong escapelong escapelong escapelong escapelong escapelong escapelong escapelong stack escapelong escapelong escapelong escapelong escapelong escapelong escapelong escapelong escapelong escapelong escapelong escapelong escapelong exe stack create escapelong escapelong escapelong\"\n        ],\n        \"semantic_type\": \"\",\n        \"description\": \"\"\n      }\n    }\n  ]\n}"
            }
          },
          "metadata": {},
          "execution_count": 4
        }
      ]
    },
    {
      "cell_type": "code",
      "source": [
        "df.info()"
      ],
      "metadata": {
        "colab": {
          "base_uri": "https://localhost:8080/"
        },
        "id": "tcJuC5UHy_6x",
        "outputId": "62d755b8-c2df-42c0-f1dc-286e1f52a172"
      },
      "execution_count": null,
      "outputs": [
        {
          "output_type": "stream",
          "name": "stdout",
          "text": [
            "<class 'pandas.core.frame.DataFrame'>\n",
            "RangeIndex: 7485 entries, 0 to 7484\n",
            "Data columns (total 2 columns):\n",
            " #   Column  Non-Null Count  Dtype \n",
            "---  ------  --------------  ----- \n",
            " 0   label   7485 non-null   int64 \n",
            " 1   text    7485 non-null   object\n",
            "dtypes: int64(1), object(1)\n",
            "memory usage: 117.1+ KB\n"
          ]
        }
      ]
    },
    {
      "cell_type": "code",
      "source": [
        "df['label'].value_counts(normalize= True)*100"
      ],
      "metadata": {
        "colab": {
          "base_uri": "https://localhost:8080/",
          "height": 178
        },
        "id": "EqiodiOM5t0l",
        "outputId": "33474985-d66f-4db9-ed70-4eb24c1b9904"
      },
      "execution_count": null,
      "outputs": [
        {
          "output_type": "execute_result",
          "data": {
            "text/plain": [
              "label\n",
              "1    53.253173\n",
              "0    46.746827\n",
              "Name: proportion, dtype: float64"
            ],
            "text/html": [
              "<div>\n",
              "<style scoped>\n",
              "    .dataframe tbody tr th:only-of-type {\n",
              "        vertical-align: middle;\n",
              "    }\n",
              "\n",
              "    .dataframe tbody tr th {\n",
              "        vertical-align: top;\n",
              "    }\n",
              "\n",
              "    .dataframe thead th {\n",
              "        text-align: right;\n",
              "    }\n",
              "</style>\n",
              "<table border=\"1\" class=\"dataframe\">\n",
              "  <thead>\n",
              "    <tr style=\"text-align: right;\">\n",
              "      <th></th>\n",
              "      <th>proportion</th>\n",
              "    </tr>\n",
              "    <tr>\n",
              "      <th>label</th>\n",
              "      <th></th>\n",
              "    </tr>\n",
              "  </thead>\n",
              "  <tbody>\n",
              "    <tr>\n",
              "      <th>1</th>\n",
              "      <td>53.253173</td>\n",
              "    </tr>\n",
              "    <tr>\n",
              "      <th>0</th>\n",
              "      <td>46.746827</td>\n",
              "    </tr>\n",
              "  </tbody>\n",
              "</table>\n",
              "</div><br><label><b>dtype:</b> float64</label>"
            ]
          },
          "metadata": {},
          "execution_count": 50
        }
      ]
    },
    {
      "cell_type": "code",
      "source": [
        "df['text'] = df['text'].apply(lambda x: x.lower())\n",
        "df['text']"
      ],
      "metadata": {
        "colab": {
          "base_uri": "https://localhost:8080/",
          "height": 458
        },
        "id": "DREPKWU9zPl5",
        "outputId": "fb443c94-88ed-442d-945c-f049d51c65de"
      },
      "execution_count": null,
      "outputs": [
        {
          "output_type": "execute_result",
          "data": {
            "text/plain": [
              "0       ounce feather bowl hummingbird opec moment ala...\n",
              "1       wulvob get your medircations online qnb ikud v...\n",
              "2        computer connection from cnn com wednesday es...\n",
              "3       university degree obtain a prosperous future m...\n",
              "4       thanks for all your answers guys i know i shou...\n",
              "                              ...                        \n",
              "7480    free video professor trial and digital camera ...\n",
              "7481    ultimately the true stuff escapenumber no more...\n",
              "7482    i will fix this .\\nmark pickering\\nchief techn...\n",
              "7483    bill - i believe this was meant for you .\\n- -...\n",
              "7484    advertising is the principal reason why the bu...\n",
              "Name: text, Length: 7485, dtype: object"
            ],
            "text/html": [
              "<div>\n",
              "<style scoped>\n",
              "    .dataframe tbody tr th:only-of-type {\n",
              "        vertical-align: middle;\n",
              "    }\n",
              "\n",
              "    .dataframe tbody tr th {\n",
              "        vertical-align: top;\n",
              "    }\n",
              "\n",
              "    .dataframe thead th {\n",
              "        text-align: right;\n",
              "    }\n",
              "</style>\n",
              "<table border=\"1\" class=\"dataframe\">\n",
              "  <thead>\n",
              "    <tr style=\"text-align: right;\">\n",
              "      <th></th>\n",
              "      <th>text</th>\n",
              "    </tr>\n",
              "  </thead>\n",
              "  <tbody>\n",
              "    <tr>\n",
              "      <th>0</th>\n",
              "      <td>ounce feather bowl hummingbird opec moment ala...</td>\n",
              "    </tr>\n",
              "    <tr>\n",
              "      <th>1</th>\n",
              "      <td>wulvob get your medircations online qnb ikud v...</td>\n",
              "    </tr>\n",
              "    <tr>\n",
              "      <th>2</th>\n",
              "      <td>computer connection from cnn com wednesday es...</td>\n",
              "    </tr>\n",
              "    <tr>\n",
              "      <th>3</th>\n",
              "      <td>university degree obtain a prosperous future m...</td>\n",
              "    </tr>\n",
              "    <tr>\n",
              "      <th>4</th>\n",
              "      <td>thanks for all your answers guys i know i shou...</td>\n",
              "    </tr>\n",
              "    <tr>\n",
              "      <th>...</th>\n",
              "      <td>...</td>\n",
              "    </tr>\n",
              "    <tr>\n",
              "      <th>7480</th>\n",
              "      <td>free video professor trial and digital camera ...</td>\n",
              "    </tr>\n",
              "    <tr>\n",
              "      <th>7481</th>\n",
              "      <td>ultimately the true stuff escapenumber no more...</td>\n",
              "    </tr>\n",
              "    <tr>\n",
              "      <th>7482</th>\n",
              "      <td>i will fix this .\\nmark pickering\\nchief techn...</td>\n",
              "    </tr>\n",
              "    <tr>\n",
              "      <th>7483</th>\n",
              "      <td>bill - i believe this was meant for you .\\n- -...</td>\n",
              "    </tr>\n",
              "    <tr>\n",
              "      <th>7484</th>\n",
              "      <td>advertising is the principal reason why the bu...</td>\n",
              "    </tr>\n",
              "  </tbody>\n",
              "</table>\n",
              "<p>7485 rows × 1 columns</p>\n",
              "</div><br><label><b>dtype:</b> object</label>"
            ]
          },
          "metadata": {},
          "execution_count": 6
        }
      ]
    },
    {
      "cell_type": "code",
      "source": [
        "import string\n",
        "\n",
        "def remove_punc(txt):\n",
        "  return txt.translate(str.maketrans('','',string.punctuation))\n"
      ],
      "metadata": {
        "id": "Q-ikR4LDzSmf"
      },
      "execution_count": null,
      "outputs": []
    },
    {
      "cell_type": "code",
      "source": [
        "df['text'] = df['text'].apply(remove_punc)"
      ],
      "metadata": {
        "id": "oc-nibr7zXYA"
      },
      "execution_count": null,
      "outputs": []
    },
    {
      "cell_type": "code",
      "source": [
        "def remove_numbers(txt):\n",
        "  new = \"\"\n",
        "  for i in txt:\n",
        "    if not i.isdigit():\n",
        "      new += i\n",
        "  return new\n",
        "\n",
        "df['text'] = df['text'].apply(remove_numbers)"
      ],
      "metadata": {
        "id": "GmxqBVTXzaIt"
      },
      "execution_count": null,
      "outputs": []
    },
    {
      "cell_type": "code",
      "source": [
        "def remove_emojis(txt):\n",
        "  new = \"\"\n",
        "  for i in txt:\n",
        "    if i.isascii():\n",
        "      new += i\n",
        "  return new\n",
        "\n",
        "df['text'] = df['text'].apply(remove_emojis)"
      ],
      "metadata": {
        "id": "vSJVy6DtzlWh"
      },
      "execution_count": null,
      "outputs": []
    },
    {
      "cell_type": "code",
      "source": [
        "import nltk\n",
        "from nltk.corpus import stopwords\n",
        "from nltk.tokenize import word_tokenize"
      ],
      "metadata": {
        "id": "0A9vX1nmzr1G"
      },
      "execution_count": null,
      "outputs": []
    },
    {
      "cell_type": "code",
      "source": [
        "nltk.download('stopwords')\n",
        "nltk.download('punkt')\n",
        "nltk.download(\"punkt_tab\")"
      ],
      "metadata": {
        "colab": {
          "base_uri": "https://localhost:8080/"
        },
        "id": "8gp_LfApz2bt",
        "outputId": "c50457de-841f-4f2d-f36a-caf2b1ca64b1"
      },
      "execution_count": null,
      "outputs": [
        {
          "output_type": "stream",
          "name": "stderr",
          "text": [
            "[nltk_data] Downloading package stopwords to /root/nltk_data...\n",
            "[nltk_data]   Unzipping corpora/stopwords.zip.\n",
            "[nltk_data] Downloading package punkt to /root/nltk_data...\n",
            "[nltk_data]   Unzipping tokenizers/punkt.zip.\n",
            "[nltk_data] Downloading package punkt_tab to /root/nltk_data...\n",
            "[nltk_data]   Unzipping tokenizers/punkt_tab.zip.\n"
          ]
        },
        {
          "output_type": "execute_result",
          "data": {
            "text/plain": [
              "True"
            ]
          },
          "metadata": {},
          "execution_count": 13
        }
      ]
    },
    {
      "cell_type": "code",
      "source": [
        "stop_words = set(stopwords.words('english'))\n",
        "stop_words"
      ],
      "metadata": {
        "colab": {
          "base_uri": "https://localhost:8080/"
        },
        "id": "g1dWCC_3zxg6",
        "outputId": "e769a505-8c89-4ee2-ba65-5fca0d357bf3"
      },
      "execution_count": null,
      "outputs": [
        {
          "output_type": "execute_result",
          "data": {
            "text/plain": [
              "{'a',\n",
              " 'about',\n",
              " 'above',\n",
              " 'after',\n",
              " 'again',\n",
              " 'against',\n",
              " 'ain',\n",
              " 'all',\n",
              " 'am',\n",
              " 'an',\n",
              " 'and',\n",
              " 'any',\n",
              " 'are',\n",
              " 'aren',\n",
              " \"aren't\",\n",
              " 'as',\n",
              " 'at',\n",
              " 'be',\n",
              " 'because',\n",
              " 'been',\n",
              " 'before',\n",
              " 'being',\n",
              " 'below',\n",
              " 'between',\n",
              " 'both',\n",
              " 'but',\n",
              " 'by',\n",
              " 'can',\n",
              " 'couldn',\n",
              " \"couldn't\",\n",
              " 'd',\n",
              " 'did',\n",
              " 'didn',\n",
              " \"didn't\",\n",
              " 'do',\n",
              " 'does',\n",
              " 'doesn',\n",
              " \"doesn't\",\n",
              " 'doing',\n",
              " 'don',\n",
              " \"don't\",\n",
              " 'down',\n",
              " 'during',\n",
              " 'each',\n",
              " 'few',\n",
              " 'for',\n",
              " 'from',\n",
              " 'further',\n",
              " 'had',\n",
              " 'hadn',\n",
              " \"hadn't\",\n",
              " 'has',\n",
              " 'hasn',\n",
              " \"hasn't\",\n",
              " 'have',\n",
              " 'haven',\n",
              " \"haven't\",\n",
              " 'having',\n",
              " 'he',\n",
              " \"he'd\",\n",
              " \"he'll\",\n",
              " \"he's\",\n",
              " 'her',\n",
              " 'here',\n",
              " 'hers',\n",
              " 'herself',\n",
              " 'him',\n",
              " 'himself',\n",
              " 'his',\n",
              " 'how',\n",
              " 'i',\n",
              " \"i'd\",\n",
              " \"i'll\",\n",
              " \"i'm\",\n",
              " \"i've\",\n",
              " 'if',\n",
              " 'in',\n",
              " 'into',\n",
              " 'is',\n",
              " 'isn',\n",
              " \"isn't\",\n",
              " 'it',\n",
              " \"it'd\",\n",
              " \"it'll\",\n",
              " \"it's\",\n",
              " 'its',\n",
              " 'itself',\n",
              " 'just',\n",
              " 'll',\n",
              " 'm',\n",
              " 'ma',\n",
              " 'me',\n",
              " 'mightn',\n",
              " \"mightn't\",\n",
              " 'more',\n",
              " 'most',\n",
              " 'mustn',\n",
              " \"mustn't\",\n",
              " 'my',\n",
              " 'myself',\n",
              " 'needn',\n",
              " \"needn't\",\n",
              " 'no',\n",
              " 'nor',\n",
              " 'not',\n",
              " 'now',\n",
              " 'o',\n",
              " 'of',\n",
              " 'off',\n",
              " 'on',\n",
              " 'once',\n",
              " 'only',\n",
              " 'or',\n",
              " 'other',\n",
              " 'our',\n",
              " 'ours',\n",
              " 'ourselves',\n",
              " 'out',\n",
              " 'over',\n",
              " 'own',\n",
              " 're',\n",
              " 's',\n",
              " 'same',\n",
              " 'shan',\n",
              " \"shan't\",\n",
              " 'she',\n",
              " \"she'd\",\n",
              " \"she'll\",\n",
              " \"she's\",\n",
              " 'should',\n",
              " \"should've\",\n",
              " 'shouldn',\n",
              " \"shouldn't\",\n",
              " 'so',\n",
              " 'some',\n",
              " 'such',\n",
              " 't',\n",
              " 'than',\n",
              " 'that',\n",
              " \"that'll\",\n",
              " 'the',\n",
              " 'their',\n",
              " 'theirs',\n",
              " 'them',\n",
              " 'themselves',\n",
              " 'then',\n",
              " 'there',\n",
              " 'these',\n",
              " 'they',\n",
              " \"they'd\",\n",
              " \"they'll\",\n",
              " \"they're\",\n",
              " \"they've\",\n",
              " 'this',\n",
              " 'those',\n",
              " 'through',\n",
              " 'to',\n",
              " 'too',\n",
              " 'under',\n",
              " 'until',\n",
              " 'up',\n",
              " 've',\n",
              " 'very',\n",
              " 'was',\n",
              " 'wasn',\n",
              " \"wasn't\",\n",
              " 'we',\n",
              " \"we'd\",\n",
              " \"we'll\",\n",
              " \"we're\",\n",
              " \"we've\",\n",
              " 'were',\n",
              " 'weren',\n",
              " \"weren't\",\n",
              " 'what',\n",
              " 'when',\n",
              " 'where',\n",
              " 'which',\n",
              " 'while',\n",
              " 'who',\n",
              " 'whom',\n",
              " 'why',\n",
              " 'will',\n",
              " 'with',\n",
              " 'won',\n",
              " \"won't\",\n",
              " 'wouldn',\n",
              " \"wouldn't\",\n",
              " 'y',\n",
              " 'you',\n",
              " \"you'd\",\n",
              " \"you'll\",\n",
              " \"you're\",\n",
              " \"you've\",\n",
              " 'your',\n",
              " 'yours',\n",
              " 'yourself',\n",
              " 'yourselves'}"
            ]
          },
          "metadata": {},
          "execution_count": 14
        }
      ]
    },
    {
      "cell_type": "code",
      "source": [
        "def remove(txt):\n",
        "  words = word_tokenize(txt)\n",
        "  new = [word for word in words if word not in stop_words]\n",
        "  return ' '.join(new)\n",
        "\n",
        "df['text'] = df['text'].apply(remove)"
      ],
      "metadata": {
        "id": "xUx_xTYwz6S6"
      },
      "execution_count": null,
      "outputs": []
    },
    {
      "cell_type": "code",
      "source": [
        "df.loc[1]['text']"
      ],
      "metadata": {
        "colab": {
          "base_uri": "https://localhost:8080/",
          "height": 105
        },
        "id": "G4Tp8azf0Fsv",
        "outputId": "483c4496-29e5-4ac6-d031-5ec6c61307be"
      },
      "execution_count": null,
      "outputs": [
        {
          "output_type": "execute_result",
          "data": {
            "text/plain": [
              "'wulvob get medircations online qnb ikud viagra escapenumber escapenumber levitra escapenumber escapenumber cialis escapenumber escapenumber imitrex escapenumber escapenumber flonax escapenumber escapenumber ultram escapenumber escapenumber vioxx escapenumber escapenumber ambien escapenumber escapenumber valium escapenumber escapenumber xannax escapenumber escapenumber soma escapenumber meridia escapenumber escapenumber escapenumber escapenumber cysfrt ever stopped wonder much average man pays mediecines ap painkillers drugs improve quality life weight reducing tablets many escapenumber whats worse mediucine costs lot branded rfwur intrested http dmvrwm remunerativ net dfuaeirxygiq visit website escapenumber'"
            ],
            "application/vnd.google.colaboratory.intrinsic+json": {
              "type": "string"
            }
          },
          "metadata": {},
          "execution_count": 16
        }
      ]
    },
    {
      "cell_type": "code",
      "source": [
        "df.head()"
      ],
      "metadata": {
        "colab": {
          "base_uri": "https://localhost:8080/",
          "height": 206
        },
        "id": "klKwb7mO0KbQ",
        "outputId": "01b60849-7c1e-4ba4-c093-6e66627de24a"
      },
      "execution_count": null,
      "outputs": [
        {
          "output_type": "execute_result",
          "data": {
            "text/plain": [
              "   label                                               text\n",
              "0      1  ounce feather bowl hummingbird opec moment ala...\n",
              "1      1  wulvob get medircations online qnb ikud viagra...\n",
              "2      0  computer connection cnn com wednesday escapenu...\n",
              "3      1  university degree obtain prosperous future mon...\n",
              "4      0  thanks answers guys know checked rsync manual ..."
            ],
            "text/html": [
              "\n",
              "  <div id=\"df-34dfa71b-ed5a-4396-b19b-6a1a0b33cb74\" class=\"colab-df-container\">\n",
              "    <div>\n",
              "<style scoped>\n",
              "    .dataframe tbody tr th:only-of-type {\n",
              "        vertical-align: middle;\n",
              "    }\n",
              "\n",
              "    .dataframe tbody tr th {\n",
              "        vertical-align: top;\n",
              "    }\n",
              "\n",
              "    .dataframe thead th {\n",
              "        text-align: right;\n",
              "    }\n",
              "</style>\n",
              "<table border=\"1\" class=\"dataframe\">\n",
              "  <thead>\n",
              "    <tr style=\"text-align: right;\">\n",
              "      <th></th>\n",
              "      <th>label</th>\n",
              "      <th>text</th>\n",
              "    </tr>\n",
              "  </thead>\n",
              "  <tbody>\n",
              "    <tr>\n",
              "      <th>0</th>\n",
              "      <td>1</td>\n",
              "      <td>ounce feather bowl hummingbird opec moment ala...</td>\n",
              "    </tr>\n",
              "    <tr>\n",
              "      <th>1</th>\n",
              "      <td>1</td>\n",
              "      <td>wulvob get medircations online qnb ikud viagra...</td>\n",
              "    </tr>\n",
              "    <tr>\n",
              "      <th>2</th>\n",
              "      <td>0</td>\n",
              "      <td>computer connection cnn com wednesday escapenu...</td>\n",
              "    </tr>\n",
              "    <tr>\n",
              "      <th>3</th>\n",
              "      <td>1</td>\n",
              "      <td>university degree obtain prosperous future mon...</td>\n",
              "    </tr>\n",
              "    <tr>\n",
              "      <th>4</th>\n",
              "      <td>0</td>\n",
              "      <td>thanks answers guys know checked rsync manual ...</td>\n",
              "    </tr>\n",
              "  </tbody>\n",
              "</table>\n",
              "</div>\n",
              "    <div class=\"colab-df-buttons\">\n",
              "\n",
              "  <div class=\"colab-df-container\">\n",
              "    <button class=\"colab-df-convert\" onclick=\"convertToInteractive('df-34dfa71b-ed5a-4396-b19b-6a1a0b33cb74')\"\n",
              "            title=\"Convert this dataframe to an interactive table.\"\n",
              "            style=\"display:none;\">\n",
              "\n",
              "  <svg xmlns=\"http://www.w3.org/2000/svg\" height=\"24px\" viewBox=\"0 -960 960 960\">\n",
              "    <path d=\"M120-120v-720h720v720H120Zm60-500h600v-160H180v160Zm220 220h160v-160H400v160Zm0 220h160v-160H400v160ZM180-400h160v-160H180v160Zm440 0h160v-160H620v160ZM180-180h160v-160H180v160Zm440 0h160v-160H620v160Z\"/>\n",
              "  </svg>\n",
              "    </button>\n",
              "\n",
              "  <style>\n",
              "    .colab-df-container {\n",
              "      display:flex;\n",
              "      gap: 12px;\n",
              "    }\n",
              "\n",
              "    .colab-df-convert {\n",
              "      background-color: #E8F0FE;\n",
              "      border: none;\n",
              "      border-radius: 50%;\n",
              "      cursor: pointer;\n",
              "      display: none;\n",
              "      fill: #1967D2;\n",
              "      height: 32px;\n",
              "      padding: 0 0 0 0;\n",
              "      width: 32px;\n",
              "    }\n",
              "\n",
              "    .colab-df-convert:hover {\n",
              "      background-color: #E2EBFA;\n",
              "      box-shadow: 0px 1px 2px rgba(60, 64, 67, 0.3), 0px 1px 3px 1px rgba(60, 64, 67, 0.15);\n",
              "      fill: #174EA6;\n",
              "    }\n",
              "\n",
              "    .colab-df-buttons div {\n",
              "      margin-bottom: 4px;\n",
              "    }\n",
              "\n",
              "    [theme=dark] .colab-df-convert {\n",
              "      background-color: #3B4455;\n",
              "      fill: #D2E3FC;\n",
              "    }\n",
              "\n",
              "    [theme=dark] .colab-df-convert:hover {\n",
              "      background-color: #434B5C;\n",
              "      box-shadow: 0px 1px 3px 1px rgba(0, 0, 0, 0.15);\n",
              "      filter: drop-shadow(0px 1px 2px rgba(0, 0, 0, 0.3));\n",
              "      fill: #FFFFFF;\n",
              "    }\n",
              "  </style>\n",
              "\n",
              "    <script>\n",
              "      const buttonEl =\n",
              "        document.querySelector('#df-34dfa71b-ed5a-4396-b19b-6a1a0b33cb74 button.colab-df-convert');\n",
              "      buttonEl.style.display =\n",
              "        google.colab.kernel.accessAllowed ? 'block' : 'none';\n",
              "\n",
              "      async function convertToInteractive(key) {\n",
              "        const element = document.querySelector('#df-34dfa71b-ed5a-4396-b19b-6a1a0b33cb74');\n",
              "        const dataTable =\n",
              "          await google.colab.kernel.invokeFunction('convertToInteractive',\n",
              "                                                    [key], {});\n",
              "        if (!dataTable) return;\n",
              "\n",
              "        const docLinkHtml = 'Like what you see? Visit the ' +\n",
              "          '<a target=\"_blank\" href=https://colab.research.google.com/notebooks/data_table.ipynb>data table notebook</a>'\n",
              "          + ' to learn more about interactive tables.';\n",
              "        element.innerHTML = '';\n",
              "        dataTable['output_type'] = 'display_data';\n",
              "        await google.colab.output.renderOutput(dataTable, element);\n",
              "        const docLink = document.createElement('div');\n",
              "        docLink.innerHTML = docLinkHtml;\n",
              "        element.appendChild(docLink);\n",
              "      }\n",
              "    </script>\n",
              "  </div>\n",
              "\n",
              "\n",
              "    <div id=\"df-e931b4ea-d974-4a96-a000-5451c5f390e9\">\n",
              "      <button class=\"colab-df-quickchart\" onclick=\"quickchart('df-e931b4ea-d974-4a96-a000-5451c5f390e9')\"\n",
              "                title=\"Suggest charts\"\n",
              "                style=\"display:none;\">\n",
              "\n",
              "<svg xmlns=\"http://www.w3.org/2000/svg\" height=\"24px\"viewBox=\"0 0 24 24\"\n",
              "     width=\"24px\">\n",
              "    <g>\n",
              "        <path d=\"M19 3H5c-1.1 0-2 .9-2 2v14c0 1.1.9 2 2 2h14c1.1 0 2-.9 2-2V5c0-1.1-.9-2-2-2zM9 17H7v-7h2v7zm4 0h-2V7h2v10zm4 0h-2v-4h2v4z\"/>\n",
              "    </g>\n",
              "</svg>\n",
              "      </button>\n",
              "\n",
              "<style>\n",
              "  .colab-df-quickchart {\n",
              "      --bg-color: #E8F0FE;\n",
              "      --fill-color: #1967D2;\n",
              "      --hover-bg-color: #E2EBFA;\n",
              "      --hover-fill-color: #174EA6;\n",
              "      --disabled-fill-color: #AAA;\n",
              "      --disabled-bg-color: #DDD;\n",
              "  }\n",
              "\n",
              "  [theme=dark] .colab-df-quickchart {\n",
              "      --bg-color: #3B4455;\n",
              "      --fill-color: #D2E3FC;\n",
              "      --hover-bg-color: #434B5C;\n",
              "      --hover-fill-color: #FFFFFF;\n",
              "      --disabled-bg-color: #3B4455;\n",
              "      --disabled-fill-color: #666;\n",
              "  }\n",
              "\n",
              "  .colab-df-quickchart {\n",
              "    background-color: var(--bg-color);\n",
              "    border: none;\n",
              "    border-radius: 50%;\n",
              "    cursor: pointer;\n",
              "    display: none;\n",
              "    fill: var(--fill-color);\n",
              "    height: 32px;\n",
              "    padding: 0;\n",
              "    width: 32px;\n",
              "  }\n",
              "\n",
              "  .colab-df-quickchart:hover {\n",
              "    background-color: var(--hover-bg-color);\n",
              "    box-shadow: 0 1px 2px rgba(60, 64, 67, 0.3), 0 1px 3px 1px rgba(60, 64, 67, 0.15);\n",
              "    fill: var(--button-hover-fill-color);\n",
              "  }\n",
              "\n",
              "  .colab-df-quickchart-complete:disabled,\n",
              "  .colab-df-quickchart-complete:disabled:hover {\n",
              "    background-color: var(--disabled-bg-color);\n",
              "    fill: var(--disabled-fill-color);\n",
              "    box-shadow: none;\n",
              "  }\n",
              "\n",
              "  .colab-df-spinner {\n",
              "    border: 2px solid var(--fill-color);\n",
              "    border-color: transparent;\n",
              "    border-bottom-color: var(--fill-color);\n",
              "    animation:\n",
              "      spin 1s steps(1) infinite;\n",
              "  }\n",
              "\n",
              "  @keyframes spin {\n",
              "    0% {\n",
              "      border-color: transparent;\n",
              "      border-bottom-color: var(--fill-color);\n",
              "      border-left-color: var(--fill-color);\n",
              "    }\n",
              "    20% {\n",
              "      border-color: transparent;\n",
              "      border-left-color: var(--fill-color);\n",
              "      border-top-color: var(--fill-color);\n",
              "    }\n",
              "    30% {\n",
              "      border-color: transparent;\n",
              "      border-left-color: var(--fill-color);\n",
              "      border-top-color: var(--fill-color);\n",
              "      border-right-color: var(--fill-color);\n",
              "    }\n",
              "    40% {\n",
              "      border-color: transparent;\n",
              "      border-right-color: var(--fill-color);\n",
              "      border-top-color: var(--fill-color);\n",
              "    }\n",
              "    60% {\n",
              "      border-color: transparent;\n",
              "      border-right-color: var(--fill-color);\n",
              "    }\n",
              "    80% {\n",
              "      border-color: transparent;\n",
              "      border-right-color: var(--fill-color);\n",
              "      border-bottom-color: var(--fill-color);\n",
              "    }\n",
              "    90% {\n",
              "      border-color: transparent;\n",
              "      border-bottom-color: var(--fill-color);\n",
              "    }\n",
              "  }\n",
              "</style>\n",
              "\n",
              "      <script>\n",
              "        async function quickchart(key) {\n",
              "          const quickchartButtonEl =\n",
              "            document.querySelector('#' + key + ' button');\n",
              "          quickchartButtonEl.disabled = true;  // To prevent multiple clicks.\n",
              "          quickchartButtonEl.classList.add('colab-df-spinner');\n",
              "          try {\n",
              "            const charts = await google.colab.kernel.invokeFunction(\n",
              "                'suggestCharts', [key], {});\n",
              "          } catch (error) {\n",
              "            console.error('Error during call to suggestCharts:', error);\n",
              "          }\n",
              "          quickchartButtonEl.classList.remove('colab-df-spinner');\n",
              "          quickchartButtonEl.classList.add('colab-df-quickchart-complete');\n",
              "        }\n",
              "        (() => {\n",
              "          let quickchartButtonEl =\n",
              "            document.querySelector('#df-e931b4ea-d974-4a96-a000-5451c5f390e9 button');\n",
              "          quickchartButtonEl.style.display =\n",
              "            google.colab.kernel.accessAllowed ? 'block' : 'none';\n",
              "        })();\n",
              "      </script>\n",
              "    </div>\n",
              "\n",
              "    </div>\n",
              "  </div>\n"
            ],
            "application/vnd.google.colaboratory.intrinsic+json": {
              "type": "dataframe",
              "variable_name": "df",
              "summary": "{\n  \"name\": \"df\",\n  \"rows\": 7485,\n  \"fields\": [\n    {\n      \"column\": \"label\",\n      \"properties\": {\n        \"dtype\": \"number\",\n        \"std\": 0,\n        \"min\": 0,\n        \"max\": 1,\n        \"num_unique_values\": 2,\n        \"samples\": [\n          0,\n          1\n        ],\n        \"semantic_type\": \"\",\n        \"description\": \"\"\n      }\n    },\n    {\n      \"column\": \"text\",\n      \"properties\": {\n        \"dtype\": \"string\",\n        \"num_unique_values\": 7406,\n        \"samples\": [\n          \"downloadable software ds rapidly growing company providing high quality software youve come right place need professionally implemented programming solutions usage thousands contented customers already benefited products solutions hundreds joining community every day academy report says deliver superior software products services empower partners customers dramatically improve development deployment integration management quality applications world said gervasio view products pediatrics says popular products weekly plus ball microsoft office escapenumber enterprise retail price escapenumber escapenumber new academy escapenumber escapenumberof microsoft windows vista business play retail price escapenumber escapenumbermany parents escapenumber escapenumber important one said dr kenneth adobe acrobat escapenumber escapenumber professional feel pressure retail price escapenumber escapelong escapenumber escapenumber wilmette ill adobe photoshop csescapenumber v escapenumber escapenumber get smart retail price escapenumber escapenumber wilmette ill escapenumber escapenumber trouble finding buddies autodesk autocad escapenumber shown retail price escapenumber escapenumber plenty time escapenumber escapenumber report says microsoft office escapenumber professional business contact manager outlook joy cherished retail price escapenumber escapenumber report says escapenumber escapenumber report says microsoft windows xp professional spescapenumber par retail price escapenumber escapenumbermany parents escapenumber escapenumber jennifer gervasio macromedia studio escapenumber children retail price escapenumber escapenumber academy committees escapenumber escapenumber thats light schedule microsoft office xp professional annual meeting retail price escapenumber escapenumber report says escapenumber escapenumber shown adobe creative suite escapenumber premium windows creating retail price escapenumber escapenumber time increase risks escapenumber escapenumber plenty time view products free play time\",\n          \"siva check see accomodate day class also president day holiday us may look later date stinson siva thiagarajan cc subject durasoft java class stinson attached file along email lists software needed java class would like class monday thru friday pm way complete class within week unable offer classes evenings hours week usually teach week long courses clients available currently class feb th feb working feb th president day call sometime afternoon talk please feel free reach questions mean time regards siva original message stinson gibner enron com siva durasoftcorp com date friday january pm subject durasoft java class siva additional questions tell software would required students also would venkat available start class type schedule would recommend would two hour classes twice week say pm work high level interest need iron details feel free call late afternoon monday might best email stinson javasoftwareneeds htm\"\n        ],\n        \"semantic_type\": \"\",\n        \"description\": \"\"\n      }\n    }\n  ]\n}"
            }
          },
          "metadata": {},
          "execution_count": 17
        }
      ]
    },
    {
      "cell_type": "code",
      "source": [
        "df.shape"
      ],
      "metadata": {
        "colab": {
          "base_uri": "https://localhost:8080/"
        },
        "id": "rLvs5Mci0Sub",
        "outputId": "0ff224e2-3147-4cbc-c2f2-075b3b515b27"
      },
      "execution_count": null,
      "outputs": [
        {
          "output_type": "execute_result",
          "data": {
            "text/plain": [
              "(7485, 2)"
            ]
          },
          "metadata": {},
          "execution_count": 18
        }
      ]
    },
    {
      "cell_type": "code",
      "source": [
        "from sklearn.model_selection import train_test_split\n",
        "X_train,X_test,y_train,y_test = train_test_split(df['text'],df['label'],test_size = 0.20,random_state = 42)"
      ],
      "metadata": {
        "id": "7n4Fkj0W0VaY"
      },
      "execution_count": null,
      "outputs": []
    },
    {
      "cell_type": "code",
      "source": [
        "X_train"
      ],
      "metadata": {
        "colab": {
          "base_uri": "https://localhost:8080/",
          "height": 458
        },
        "id": "W-nCWkLk0e-X",
        "outputId": "0543c976-6fc1-4f21-e09c-043b907c984e"
      },
      "execution_count": null,
      "outputs": [
        {
          "output_type": "execute_result",
          "data": {
            "text/plain": [
              "426                       vince ok send following interns\n",
              "1593    get worth hershey chocolate ghirardelli chocol...\n",
              "805     houston johnathon terry barbara mary fredrick ...\n",
              "410     tat small move massive molecules clinical tria...\n",
              "6259    agra best shop details fees pills cost escapen...\n",
              "                              ...                        \n",
              "5191    credit doesnt matter us family property want i...\n",
              "5226    hello list im getting following errors try mai...\n",
              "5390    hi somebody explain difference escapenumber sy...\n",
              "860     alternative medicine database escapenumber mil...\n",
              "7270    experienced sporadic difficulty maintaining er...\n",
              "Name: text, Length: 5988, dtype: object"
            ],
            "text/html": [
              "<div>\n",
              "<style scoped>\n",
              "    .dataframe tbody tr th:only-of-type {\n",
              "        vertical-align: middle;\n",
              "    }\n",
              "\n",
              "    .dataframe tbody tr th {\n",
              "        vertical-align: top;\n",
              "    }\n",
              "\n",
              "    .dataframe thead th {\n",
              "        text-align: right;\n",
              "    }\n",
              "</style>\n",
              "<table border=\"1\" class=\"dataframe\">\n",
              "  <thead>\n",
              "    <tr style=\"text-align: right;\">\n",
              "      <th></th>\n",
              "      <th>text</th>\n",
              "    </tr>\n",
              "  </thead>\n",
              "  <tbody>\n",
              "    <tr>\n",
              "      <th>426</th>\n",
              "      <td>vince ok send following interns</td>\n",
              "    </tr>\n",
              "    <tr>\n",
              "      <th>1593</th>\n",
              "      <td>get worth hershey chocolate ghirardelli chocol...</td>\n",
              "    </tr>\n",
              "    <tr>\n",
              "      <th>805</th>\n",
              "      <td>houston johnathon terry barbara mary fredrick ...</td>\n",
              "    </tr>\n",
              "    <tr>\n",
              "      <th>410</th>\n",
              "      <td>tat small move massive molecules clinical tria...</td>\n",
              "    </tr>\n",
              "    <tr>\n",
              "      <th>6259</th>\n",
              "      <td>agra best shop details fees pills cost escapen...</td>\n",
              "    </tr>\n",
              "    <tr>\n",
              "      <th>...</th>\n",
              "      <td>...</td>\n",
              "    </tr>\n",
              "    <tr>\n",
              "      <th>5191</th>\n",
              "      <td>credit doesnt matter us family property want i...</td>\n",
              "    </tr>\n",
              "    <tr>\n",
              "      <th>5226</th>\n",
              "      <td>hello list im getting following errors try mai...</td>\n",
              "    </tr>\n",
              "    <tr>\n",
              "      <th>5390</th>\n",
              "      <td>hi somebody explain difference escapenumber sy...</td>\n",
              "    </tr>\n",
              "    <tr>\n",
              "      <th>860</th>\n",
              "      <td>alternative medicine database escapenumber mil...</td>\n",
              "    </tr>\n",
              "    <tr>\n",
              "      <th>7270</th>\n",
              "      <td>experienced sporadic difficulty maintaining er...</td>\n",
              "    </tr>\n",
              "  </tbody>\n",
              "</table>\n",
              "<p>5988 rows × 1 columns</p>\n",
              "</div><br><label><b>dtype:</b> object</label>"
            ]
          },
          "metadata": {},
          "execution_count": 23
        }
      ]
    },
    {
      "cell_type": "code",
      "source": [
        "from sklearn.feature_extraction.text import TfidfVectorizer , CountVectorizer"
      ],
      "metadata": {
        "id": "7Qqbe-0A0pRS"
      },
      "execution_count": null,
      "outputs": []
    },
    {
      "cell_type": "code",
      "source": [
        "bow_vectorizer = CountVectorizer()\n",
        "tfidf_vectorizer = TfidfVectorizer(ngram_range=(1,2), max_features=20000)"
      ],
      "metadata": {
        "id": "Kpb2pTLw00wj"
      },
      "execution_count": null,
      "outputs": []
    },
    {
      "cell_type": "code",
      "source": [
        "X_train_idf = tfidf_vectorizer.fit_transform(X_train)\n",
        "X_test_idf = tfidf_vectorizer.transform(X_test)"
      ],
      "metadata": {
        "id": "UOKI5QYp06T9"
      },
      "execution_count": null,
      "outputs": []
    },
    {
      "cell_type": "code",
      "source": [
        "from sklearn.linear_model import LogisticRegression\n",
        "from sklearn.metrics import classification_report\n",
        "from sklearn.metrics import accuracy_score"
      ],
      "metadata": {
        "id": "IOxGGE480_p8"
      },
      "execution_count": null,
      "outputs": []
    },
    {
      "cell_type": "code",
      "source": [
        "lr_model = LogisticRegression()\n",
        "lr_model.fit(X_train_idf, y_train)\n",
        "lr_pred = lr_model.predict(X_test_idf)\n",
        "print(\"\\n--- Logistic Regression ---\")\n",
        "print(classification_report(y_test, lr_pred, digits=3))\n",
        "print(accuracy_score(y_test,lr_pred))\n",
        "print(\"Confusion Matrix:\\n\", confusion_matrix(y_test, lr_pred))"
      ],
      "metadata": {
        "colab": {
          "base_uri": "https://localhost:8080/"
        },
        "id": "QXrNss_P1Ek4",
        "outputId": "1626c36d-f140-4e07-f229-0abf220f0836"
      },
      "execution_count": null,
      "outputs": [
        {
          "output_type": "stream",
          "name": "stdout",
          "text": [
            "\n",
            "--- Logistic Regression ---\n",
            "              precision    recall  f1-score   support\n",
            "\n",
            "           0      0.987     0.938     0.961       705\n",
            "           1      0.947     0.989     0.967       792\n",
            "\n",
            "    accuracy                          0.965      1497\n",
            "   macro avg      0.967     0.963     0.964      1497\n",
            "weighted avg      0.966     0.965     0.965      1497\n",
            "\n",
            "0.9645958583834335\n",
            "Confusion Matrix:\n",
            " [[661  44]\n",
            " [  9 783]]\n"
          ]
        }
      ]
    },
    {
      "cell_type": "code",
      "source": [
        "from sklearn.svm import LinearSVC"
      ],
      "metadata": {
        "id": "UpZfyppy1Hy9"
      },
      "execution_count": null,
      "outputs": []
    },
    {
      "cell_type": "code",
      "source": [
        "svm_model = LinearSVC()\n",
        "svm_model.fit(X_train_idf, y_train)\n",
        "svm_pred = svm_model.predict(X_test_idf)\n",
        "print(\"\\n--- Linear SVM ---\")\n",
        "print(classification_report(y_test, svm_pred, digits=3))\n",
        "print(accuracy_score(y_test,svm_pred))\n",
        "print(\"Confusion Matrix:\\n\", confusion_matrix(y_test, svm_pred))"
      ],
      "metadata": {
        "colab": {
          "base_uri": "https://localhost:8080/"
        },
        "id": "JoKnywhW1puo",
        "outputId": "4cf4d9aa-6628-4138-98f1-48e542a2b2cf"
      },
      "execution_count": null,
      "outputs": [
        {
          "output_type": "stream",
          "name": "stdout",
          "text": [
            "\n",
            "--- Linear SVM ---\n",
            "              precision    recall  f1-score   support\n",
            "\n",
            "           0      0.987     0.966     0.976       705\n",
            "           1      0.970     0.989     0.979       792\n",
            "\n",
            "    accuracy                          0.978      1497\n",
            "   macro avg      0.979     0.977     0.978      1497\n",
            "weighted avg      0.978     0.978     0.978      1497\n",
            "\n",
            "0.9779559118236473\n",
            "Confusion Matrix:\n",
            " [[681  24]\n",
            " [  9 783]]\n"
          ]
        }
      ]
    },
    {
      "cell_type": "code",
      "source": [
        "from sklearn.naive_bayes import MultinomialNB\n",
        "from sklearn.metrics import classification_report, accuracy_score, confusion_matrix\n",
        "\n",
        "mnb_model = MultinomialNB()\n",
        "\n",
        "mnb_model.fit(X_train_idf, y_train)\n",
        "\n",
        "mnb_pred = mnb_model.predict(X_test_idf)\n",
        "\n",
        "print(\"-- Multinomial Naive Bayes ---\")\n",
        "print(classification_report(y_test, mnb_pred))\n",
        "print(\"Accuracy:\", accuracy_score(y_test, mnb_pred))\n",
        "\n",
        "print(\"Confusion Matrix:\\n\", confusion_matrix(y_test, mnb_pred))"
      ],
      "metadata": {
        "colab": {
          "base_uri": "https://localhost:8080/"
        },
        "id": "Zdj5tLM411LC",
        "outputId": "525e23cd-f7de-4490-be4d-37a1c3f00e0a"
      },
      "execution_count": null,
      "outputs": [
        {
          "output_type": "stream",
          "name": "stdout",
          "text": [
            "-- Multinomial Naive Bayes ---\n",
            "              precision    recall  f1-score   support\n",
            "\n",
            "           0       0.96      0.97      0.96       705\n",
            "           1       0.97      0.97      0.97       792\n",
            "\n",
            "    accuracy                           0.97      1497\n",
            "   macro avg       0.97      0.97      0.97      1497\n",
            "weighted avg       0.97      0.97      0.97      1497\n",
            "\n",
            "Accuracy: 0.9659318637274549\n",
            "Confusion Matrix:\n",
            " [[681  24]\n",
            " [ 27 765]]\n"
          ]
        }
      ]
    },
    {
      "cell_type": "code",
      "source": [
        "from sklearn.model_selection import GridSearchCV"
      ],
      "metadata": {
        "id": "9cK-yLDw5rWG"
      },
      "execution_count": null,
      "outputs": []
    },
    {
      "cell_type": "code",
      "source": [
        "# -------------------------\n",
        "# 1. Logistic Regression\n",
        "# -------------------------\n",
        "\n",
        "lr_model = LogisticRegression(max_iter=5000)\n",
        "\n",
        "lr_params = {\n",
        "    'C': [0.01, 0.1, 1, 10],\n",
        "    'solver': ['liblinear', 'saga']\n",
        "}\n",
        "\n",
        "lr_grid = GridSearchCV(lr_model, lr_params, cv=5, scoring='accuracy', n_jobs=-1)\n",
        "lr_grid.fit(X_train_idf, y_train)\n",
        "\n",
        "lr_pred = lr_grid.predict(X_test_idf)\n",
        "print(\"\\n--- Logistic Regression ---\")\n",
        "print(\"Best Parameters:\", lr_grid.best_params_)\n",
        "print(\"CV Best Accuracy:\", lr_grid.best_score_)\n",
        "print(\"Test Accuracy:\", accuracy_score(y_test, lr_pred))\n",
        "print(classification_report(y_test, lr_pred, digits=3))\n",
        "print(\"Confusion Matrix:\\n\", confusion_matrix(y_test, lr_pred))\n",
        "\n",
        "# -------------------------\n",
        "# 2. Linear SVM\n",
        "# -------------------------\n",
        "svm_model = LinearSVC(max_iter=5000)\n",
        "\n",
        "svm_params = {\n",
        "    'C': [0.01, 0.1, 1, 10],\n",
        "    'loss': ['hinge', 'squared_hinge']\n",
        "}\n",
        "\n",
        "svm_grid = GridSearchCV(svm_model, svm_params, cv=5, scoring='accuracy', n_jobs=-1)\n",
        "svm_grid.fit(X_train_idf, y_train)\n",
        "\n",
        "svm_pred = svm_grid.predict(X_test_idf)\n",
        "print(\"\\n--- Linear SVM ---\")\n",
        "print(\"Best Parameters:\", svm_grid.best_params_)\n",
        "print(\"CV Best Accuracy:\", svm_grid.best_score_)\n",
        "print(\"Test Accuracy:\", accuracy_score(y_test, svm_pred))\n",
        "print(classification_report(y_test, svm_pred, digits=3))\n",
        "print(\"Confusion Matrix:\\n\", confusion_matrix(y_test, svm_pred))\n",
        "\n",
        "# -------------------------\n",
        "# 3. Multinomial Naive Bayes\n",
        "# -------------------------\n",
        "mnb_model = MultinomialNB()\n",
        "\n",
        "mnb_params = {\n",
        "    'alpha': [0.01, 0.1, 0.5, 1.0],\n",
        "    'fit_prior': [True, False]\n",
        "}\n",
        "\n",
        "mnb_grid = GridSearchCV(mnb_model, mnb_params, cv=5, scoring='accuracy', n_jobs=-1)\n",
        "mnb_grid.fit(X_train_idf, y_train)\n",
        "\n",
        "mnb_pred = mnb_grid.predict(X_test_idf)\n",
        "print(\"\\n--- Multinomial Naive Bayes ---\")\n",
        "print(\"Best Parameters:\", mnb_grid.best_params_)\n",
        "print(\"CV Best Accuracy:\", mnb_grid.best_score_)\n",
        "print(\"Test Accuracy:\", accuracy_score(y_test, mnb_pred))\n",
        "print(classification_report(y_test, mnb_pred, digits=3))\n",
        "print(\"Confusion Matrix:\\n\", confusion_matrix(y_test, mnb_pred))"
      ],
      "metadata": {
        "colab": {
          "base_uri": "https://localhost:8080/"
        },
        "id": "NXj6Eqji6JER",
        "outputId": "731c328f-64a4-4985-95f7-126b2e9bfb0c"
      },
      "execution_count": null,
      "outputs": [
        {
          "output_type": "stream",
          "name": "stdout",
          "text": [
            "\n",
            "--- Logistic Regression ---\n",
            "Best Parameters: {'C': 10, 'solver': 'saga'}\n",
            "CV Best Accuracy: 0.9756175357704221\n",
            "Test Accuracy: 0.9766199064796259\n",
            "              precision    recall  f1-score   support\n",
            "\n",
            "           0      0.986     0.965     0.975       705\n",
            "           1      0.969     0.987     0.978       792\n",
            "\n",
            "    accuracy                          0.977      1497\n",
            "   macro avg      0.977     0.976     0.977      1497\n",
            "weighted avg      0.977     0.977     0.977      1497\n",
            "\n",
            "Confusion Matrix:\n",
            " [[680  25]\n",
            " [ 10 782]]\n",
            "\n",
            "--- Linear SVM ---\n",
            "Best Parameters: {'C': 1, 'loss': 'squared_hinge'}\n",
            "CV Best Accuracy: 0.9779550434238071\n",
            "Test Accuracy: 0.9779559118236473\n",
            "              precision    recall  f1-score   support\n",
            "\n",
            "           0      0.987     0.966     0.976       705\n",
            "           1      0.970     0.989     0.979       792\n",
            "\n",
            "    accuracy                          0.978      1497\n",
            "   macro avg      0.979     0.977     0.978      1497\n",
            "weighted avg      0.978     0.978     0.978      1497\n",
            "\n",
            "Confusion Matrix:\n",
            " [[681  24]\n",
            " [  9 783]]\n",
            "\n",
            "--- Multinomial Naive Bayes ---\n",
            "Best Parameters: {'alpha': 0.1, 'fit_prior': True}\n",
            "CV Best Accuracy: 0.971276131341152\n",
            "Test Accuracy: 0.9706078824315297\n",
            "              precision    recall  f1-score   support\n",
            "\n",
            "           0      0.964     0.974     0.969       705\n",
            "           1      0.977     0.967     0.972       792\n",
            "\n",
            "    accuracy                          0.971      1497\n",
            "   macro avg      0.970     0.971     0.971      1497\n",
            "weighted avg      0.971     0.971     0.971      1497\n",
            "\n",
            "Confusion Matrix:\n",
            " [[687  18]\n",
            " [ 26 766]]\n"
          ]
        }
      ]
    },
    {
      "cell_type": "code",
      "source": [
        "best_svm_model = svm_grid.best_estimator_"
      ],
      "metadata": {
        "id": "XpRFnNaQ8m7s"
      },
      "execution_count": null,
      "outputs": []
    },
    {
      "cell_type": "code",
      "source": [
        "y_pred = best_svm_model.predict(X_test_idf)  # or any new TF-IDF matrix\n",
        "\n",
        "# Evaluate\n",
        "from sklearn.metrics import classification_report, accuracy_score, confusion_matrix\n",
        "\n",
        "print(\"Accuracy:\", accuracy_score(y_test, y_pred))\n",
        "print(classification_report(y_test, y_pred, digits=3))\n",
        "print(\"Confusion Matrix:\\n\", confusion_matrix(y_test, y_pred))"
      ],
      "metadata": {
        "colab": {
          "base_uri": "https://localhost:8080/"
        },
        "id": "xAFAHnBK9FMP",
        "outputId": "2049f38f-c5b1-4720-d01e-fe751cf495f6"
      },
      "execution_count": null,
      "outputs": [
        {
          "output_type": "stream",
          "name": "stdout",
          "text": [
            "Accuracy: 0.9779559118236473\n",
            "              precision    recall  f1-score   support\n",
            "\n",
            "           0      0.987     0.966     0.976       705\n",
            "           1      0.970     0.989     0.979       792\n",
            "\n",
            "    accuracy                          0.978      1497\n",
            "   macro avg      0.979     0.977     0.978      1497\n",
            "weighted avg      0.978     0.978     0.978      1497\n",
            "\n",
            "Confusion Matrix:\n",
            " [[681  24]\n",
            " [  9 783]]\n"
          ]
        }
      ]
    },
    {
      "cell_type": "code",
      "source": [
        "import joblib"
      ],
      "metadata": {
        "id": "WlWswMuw8MIi"
      },
      "execution_count": null,
      "outputs": []
    },
    {
      "cell_type": "code",
      "source": [
        "joblib.dump(best_svm_model, 'svm_model.pkl')\n",
        "joblib.dump(tfidf_vectorizer, 'tfidf_vectorizer.pkl')\n"
      ],
      "metadata": {
        "colab": {
          "base_uri": "https://localhost:8080/"
        },
        "id": "qIR7xAjg8EoQ",
        "outputId": "2ac4ec80-802a-459e-9d58-c50f31414d83"
      },
      "execution_count": null,
      "outputs": [
        {
          "output_type": "execute_result",
          "data": {
            "text/plain": [
              "['tfidf_vectorizer.pkl']"
            ]
          },
          "metadata": {},
          "execution_count": 57
        }
      ]
    }
  ]
}